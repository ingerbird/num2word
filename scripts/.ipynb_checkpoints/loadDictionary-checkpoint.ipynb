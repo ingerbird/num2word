{
 "cells": [
  {
   "cell_type": "code",
   "execution_count": 15,
   "metadata": {
    "collapsed": false
   },
   "outputs": [
    {
     "name": "stdout",
     "output_type": "stream",
     "text": [
      "http://www.speakrus.ru/dict/zdf-win.zip\n"
     ]
    }
   ],
   "source": [
    "import urllib\n",
    "\n",
    "#TODO: remove hard-code:\n",
    "f = open('../conf/dictionary_RU.txt', 'r')\n",
    "for line in f:\n",
    "    if line[0] == '#':\n",
    "        continue\n",
    "    urllib.urlretrieve (line)\n",
    "    print(line)"
   ]
  }
 ],
 "metadata": {
  "kernelspec": {
   "display_name": "Python [Root]",
   "language": "python",
   "name": "Python [Root]"
  },
  "language_info": {
   "codemirror_mode": {
    "name": "ipython",
    "version": 3
   },
   "file_extension": ".py",
   "mimetype": "text/x-python",
   "name": "python",
   "nbconvert_exporter": "python",
   "pygments_lexer": "ipython3",
   "version": "3.5.2"
  }
 },
 "nbformat": 4,
 "nbformat_minor": 0
}
